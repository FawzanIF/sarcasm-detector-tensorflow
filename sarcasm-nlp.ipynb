{
 "cells": [
  {
   "cell_type": "code",
   "execution_count": 1,
   "metadata": {},
   "outputs": [],
   "source": [
    "import json\n",
    "import tensorflow as tf\n",
    "import numpy as np\n",
    "import urllib\n",
    "from tensorflow.keras.preprocessing.text import Tokenizer\n",
    "from tensorflow.keras.preprocessing.sequence import pad_sequences\n",
    "from tensorflow.keras.callbacks import EarlyStopping, ModelCheckpoint"
   ]
  },
  {
   "cell_type": "code",
   "execution_count": 2,
   "metadata": {},
   "outputs": [
    {
     "data": {
      "text/plain": [
       "('sarcasm.json', <http.client.HTTPMessage at 0x1825e945ee0>)"
      ]
     },
     "execution_count": 2,
     "metadata": {},
     "output_type": "execute_result"
    }
   ],
   "source": [
    "url = 'https://storage.googleapis.com/download.tensorflow.org/data/sarcasm.json'\n",
    "urllib.request.urlretrieve(url, 'sarcasm.json')"
   ]
  },
  {
   "cell_type": "code",
   "execution_count": 2,
   "metadata": {},
   "outputs": [],
   "source": [
    "vocab_size = 1000\n",
    "embedding_dim = 16\n",
    "max_length = 120\n",
    "trunc_type='post'\n",
    "padding_type='post'\n",
    "oov_tok = \"<OOV>\"\n",
    "training_size = 21367\n",
    "\n",
    "sentences = []\n",
    "labels = []"
   ]
  },
  {
   "cell_type": "code",
   "execution_count": 3,
   "metadata": {},
   "outputs": [],
   "source": [
    "with open(\"sarcasm.json\", 'r') as f:\n",
    "    datastore = json.load(f)\n",
    "\n",
    "sentences = []\n",
    "labels = []\n",
    "\n",
    "for item in datastore:\n",
    "    sentences.append(item['headline'])\n",
    "    labels.append(item['is_sarcastic'])"
   ]
  },
  {
   "cell_type": "code",
   "execution_count": 4,
   "metadata": {},
   "outputs": [],
   "source": [
    "training_sentences = sentences[0:training_size]\n",
    "testing_sentences = sentences[training_size:]\n",
    "training_labels = labels[0:training_size]\n",
    "testing_labels = labels[training_size:]\n",
    "\n",
    "tokenizer = Tokenizer(num_words=vocab_size, oov_token=oov_tok)\n",
    "tokenizer.fit_on_texts(training_sentences)\n",
    "\n",
    "word_index = tokenizer.word_index\n",
    "\n",
    "training_sequences = tokenizer.texts_to_sequences(training_sentences)\n",
    "training_padded = pad_sequences(training_sequences, maxlen=max_length, padding=padding_type, truncating=trunc_type)\n",
    "\n",
    "testing_sequences = tokenizer.texts_to_sequences(testing_sentences)\n",
    "testing_padded = pad_sequences(testing_sequences, maxlen=max_length, padding=padding_type, truncating=trunc_type)\n"
   ]
  },
  {
   "cell_type": "code",
   "execution_count": 5,
   "metadata": {},
   "outputs": [
    {
     "name": "stdout",
     "output_type": "stream",
     "text": [
      "5342\n"
     ]
    }
   ],
   "source": [
    "print(len(testing_sentences))"
   ]
  },
  {
   "cell_type": "code",
   "execution_count": 6,
   "metadata": {},
   "outputs": [
    {
     "name": "stdout",
     "output_type": "stream",
     "text": [
      "21367\n"
     ]
    }
   ],
   "source": [
    "print(len(training_sentences))"
   ]
  },
  {
   "cell_type": "code",
   "execution_count": 7,
   "metadata": {},
   "outputs": [],
   "source": [
    "training_padded = np.array(training_padded)\n",
    "training_labels = np.array(training_labels)\n",
    "testing_padded = np.array(testing_padded)\n",
    "testing_labels = np.array(testing_labels)"
   ]
  },
  {
   "cell_type": "code",
   "execution_count": 8,
   "metadata": {},
   "outputs": [],
   "source": [
    "model = tf.keras.Sequential([\n",
    "        tf.keras.layers.Embedding(vocab_size, embedding_dim, input_length=max_length),\n",
    "        tf.keras.layers.Bidirectional(tf.keras.layers.LSTM(32, return_sequences=True)),\n",
    "        tf.keras.layers.Bidirectional(tf.keras.layers.LSTM(16, return_sequences=True)),\n",
    "        tf.keras.layers.GlobalAveragePooling1D(),\n",
    "        tf.keras.layers.Dense(256, activation='selu'),\n",
    "        tf.keras.layers.Dense(128, activation='selu'),\n",
    "        tf.keras.layers.Dense(64, activation='selu'),\n",
    "        tf.keras.layers.Dense(16, activation='selu'),\n",
    "        tf.keras.layers.Dense(1, activation='sigmoid'),\n",
    "    ])\n",
    "\n",
    "model.compile(loss='binary_crossentropy', optimizer='adam', metrics=['accuracy'])"
   ]
  },
  {
   "cell_type": "code",
   "execution_count": 9,
   "metadata": {},
   "outputs": [
    {
     "name": "stdout",
     "output_type": "stream",
     "text": [
      "Epoch 1/30\n",
      "668/668 [==============================] - 31s 37ms/step - loss: 0.5051 - accuracy: 0.7395 - val_loss: 0.4018 - val_accuracy: 0.8147\n",
      "Epoch 2/30\n",
      "668/668 [==============================] - 23s 34ms/step - loss: 0.3887 - accuracy: 0.8189 - val_loss: 0.4022 - val_accuracy: 0.8139\n",
      "Epoch 3/30\n",
      "668/668 [==============================] - 22s 34ms/step - loss: 0.3605 - accuracy: 0.8344 - val_loss: 0.3847 - val_accuracy: 0.8225\n",
      "Epoch 4/30\n",
      "668/668 [==============================] - 23s 34ms/step - loss: 0.3420 - accuracy: 0.8456 - val_loss: 0.3757 - val_accuracy: 0.8272\n",
      "Epoch 5/30\n",
      "668/668 [==============================] - 23s 35ms/step - loss: 0.3218 - accuracy: 0.8552 - val_loss: 0.3988 - val_accuracy: 0.8143\n",
      "Epoch 6/30\n",
      "668/668 [==============================] - 24s 35ms/step - loss: 0.3051 - accuracy: 0.8635 - val_loss: 0.3784 - val_accuracy: 0.8300\n",
      "Epoch 7/30\n",
      "668/668 [==============================] - 23s 35ms/step - loss: 0.2883 - accuracy: 0.8717 - val_loss: 0.4174 - val_accuracy: 0.8297\n",
      "Epoch 8/30\n",
      "668/668 [==============================] - 22s 33ms/step - loss: 0.2779 - accuracy: 0.8787 - val_loss: 0.3910 - val_accuracy: 0.8237\n",
      "Epoch 9/30\n",
      "668/668 [==============================] - 22s 34ms/step - loss: 0.2676 - accuracy: 0.8838 - val_loss: 0.4170 - val_accuracy: 0.8209\n",
      "Epoch 10/30\n",
      "668/668 [==============================] - 23s 34ms/step - loss: 0.2589 - accuracy: 0.8883 - val_loss: 0.4058 - val_accuracy: 0.8227\n",
      "Epoch 11/30\n",
      "668/668 [==============================] - 22s 34ms/step - loss: 0.2537 - accuracy: 0.8910 - val_loss: 0.4175 - val_accuracy: 0.8231\n",
      "Epoch 12/30\n",
      "668/668 [==============================] - 23s 34ms/step - loss: 0.2462 - accuracy: 0.8932 - val_loss: 0.4152 - val_accuracy: 0.8190\n",
      "Epoch 13/30\n",
      "668/668 [==============================] - 23s 34ms/step - loss: 0.2364 - accuracy: 0.8983 - val_loss: 0.4405 - val_accuracy: 0.8188\n",
      "Epoch 14/30\n",
      "668/668 [==============================] - 23s 35ms/step - loss: 0.2344 - accuracy: 0.8977 - val_loss: 0.4264 - val_accuracy: 0.8184\n",
      "Epoch 15/30\n",
      "668/668 [==============================] - 23s 35ms/step - loss: 0.2302 - accuracy: 0.9005 - val_loss: 0.4451 - val_accuracy: 0.8220\n",
      "Epoch 16/30\n",
      "668/668 [==============================] - 23s 35ms/step - loss: 0.2210 - accuracy: 0.9041 - val_loss: 0.4431 - val_accuracy: 0.8173\n",
      "Epoch 17/30\n",
      "668/668 [==============================] - 23s 34ms/step - loss: 0.2168 - accuracy: 0.9084 - val_loss: 0.4969 - val_accuracy: 0.8175\n",
      "Epoch 18/30\n",
      "668/668 [==============================] - 24s 36ms/step - loss: 0.2080 - accuracy: 0.9137 - val_loss: 0.4788 - val_accuracy: 0.8076\n",
      "Epoch 19/30\n",
      "668/668 [==============================] - 24s 35ms/step - loss: 0.2062 - accuracy: 0.9122 - val_loss: 0.5120 - val_accuracy: 0.8156\n",
      "Epoch 20/30\n",
      "668/668 [==============================] - 23s 34ms/step - loss: 0.2019 - accuracy: 0.9169 - val_loss: 0.4917 - val_accuracy: 0.8171\n",
      "Epoch 21/30\n",
      "668/668 [==============================] - 24s 36ms/step - loss: 0.1934 - accuracy: 0.9208 - val_loss: 0.5393 - val_accuracy: 0.8068\n",
      "Epoch 22/30\n",
      "668/668 [==============================] - 23s 34ms/step - loss: 0.1910 - accuracy: 0.9226 - val_loss: 0.5073 - val_accuracy: 0.8152\n",
      "Epoch 23/30\n",
      "668/668 [==============================] - 23s 35ms/step - loss: 0.1842 - accuracy: 0.9249 - val_loss: 0.5384 - val_accuracy: 0.8089\n",
      "Epoch 24/30\n",
      "668/668 [==============================] - 23s 35ms/step - loss: 0.1813 - accuracy: 0.9260 - val_loss: 0.5195 - val_accuracy: 0.8132\n",
      "Epoch 25/30\n",
      "668/668 [==============================] - 24s 36ms/step - loss: 0.1758 - accuracy: 0.9288 - val_loss: 0.6254 - val_accuracy: 0.8134\n",
      "Epoch 26/30\n",
      "668/668 [==============================] - 24s 36ms/step - loss: 0.1686 - accuracy: 0.9307 - val_loss: 0.5557 - val_accuracy: 0.8066\n",
      "Epoch 27/30\n",
      "668/668 [==============================] - 24s 35ms/step - loss: 0.1689 - accuracy: 0.9316 - val_loss: 0.5495 - val_accuracy: 0.8057\n",
      "Epoch 28/30\n",
      "668/668 [==============================] - 24s 36ms/step - loss: 0.1633 - accuracy: 0.9330 - val_loss: 0.5871 - val_accuracy: 0.8023\n",
      "Epoch 29/30\n",
      "668/668 [==============================] - 26s 39ms/step - loss: 0.1578 - accuracy: 0.9352 - val_loss: 0.5991 - val_accuracy: 0.8113\n",
      "Epoch 30/30\n",
      "668/668 [==============================] - 25s 37ms/step - loss: 0.1544 - accuracy: 0.9370 - val_loss: 0.5826 - val_accuracy: 0.8098\n"
     ]
    }
   ],
   "source": [
    "num_epochs = 30\n",
    "history = model.fit(training_padded, training_labels, epochs=num_epochs,\n",
    "              validation_data=(testing_padded, testing_labels), verbose=1)"
   ]
  },
  {
   "cell_type": "code",
   "execution_count": null,
   "metadata": {},
   "outputs": [],
   "source": []
  }
 ],
 "metadata": {
  "kernelspec": {
   "display_name": "Python 3.8.10 64-bit",
   "language": "python",
   "name": "python3"
  },
  "language_info": {
   "codemirror_mode": {
    "name": "ipython",
    "version": 3
   },
   "file_extension": ".py",
   "mimetype": "text/x-python",
   "name": "python",
   "nbconvert_exporter": "python",
   "pygments_lexer": "ipython3",
   "version": "3.8.10"
  },
  "orig_nbformat": 4,
  "vscode": {
   "interpreter": {
    "hash": "1a9bd0bc7b15453bb15ec2d775732272e1be6fd4da0fc6dc9034c80391f97b78"
   }
  }
 },
 "nbformat": 4,
 "nbformat_minor": 2
}
